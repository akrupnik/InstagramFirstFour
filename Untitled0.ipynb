{
  "nbformat": 4,
  "nbformat_minor": 0,
  "metadata": {
    "colab": {
      "name": "Untitled0.ipynb",
      "provenance": [],
      "collapsed_sections": [],
      "authorship_tag": "ABX9TyNMFOvhVDRyUEC3F2fxz5sS",
      "include_colab_link": true
    },
    "kernelspec": {
      "name": "python3",
      "display_name": "Python 3"
    },
    "language_info": {
      "name": "python"
    }
  },
  "cells": [
    {
      "cell_type": "markdown",
      "metadata": {
        "id": "view-in-github",
        "colab_type": "text"
      },
      "source": [
        "<a href=\"https://colab.research.google.com/github/akrupnik/InstagramFirstFour/blob/master/Untitled0.ipynb\" target=\"_parent\"><img src=\"https://colab.research.google.com/assets/colab-badge.svg\" alt=\"Open In Colab\"/></a>"
      ]
    },
    {
      "cell_type": "code",
      "metadata": {
        "id": "6wkjtnEEpkNc"
      },
      "source": [
        "from torchvision import models\n"
      ],
      "execution_count": 60,
      "outputs": []
    },
    {
      "cell_type": "code",
      "metadata": {
        "id": "JjGhBBJdwK9E"
      },
      "source": [
        "dir(models)"
      ],
      "execution_count": null,
      "outputs": []
    },
    {
      "cell_type": "code",
      "metadata": {
        "id": "90oJ7hxQwlgy"
      },
      "source": [
        "alexnet = models.AlexNet()"
      ],
      "execution_count": 62,
      "outputs": []
    },
    {
      "cell_type": "code",
      "metadata": {
        "id": "OkypK0j8wsgK"
      },
      "source": [
        "resnet = models.resnet101(pretrained=True)\n",
        "resnet"
      ],
      "execution_count": null,
      "outputs": []
    },
    {
      "cell_type": "code",
      "metadata": {
        "id": "UcpGedwew54J"
      },
      "source": [
        "from torchvision import transforms\n",
        "preprocess = transforms.Compose([\n",
        "        transforms.Resize(256),\n",
        "        transforms.CenterCrop(224),\n",
        "        transforms.ToTensor(),\n",
        "        transforms.Normalize(\n",
        "            mean=[0.485, 0.456, 0.406],\n",
        "            std=[0.229, 0.224, 0.225]\n",
        "        )])"
      ],
      "execution_count": 64,
      "outputs": []
    },
    {
      "cell_type": "code",
      "metadata": {
        "id": "mDddAsKow63a"
      },
      "source": [
        "\n",
        "\n",
        "from google.colab import drive\n",
        "drive.mount('/content/drive')\n",
        "!ls \"/content/drive/My Drive/pytorch\"\n"
      ],
      "execution_count": null,
      "outputs": []
    },
    {
      "cell_type": "code",
      "metadata": {
        "id": "-kQt20ZoUQuE"
      },
      "source": [
        "%pylab inline\n",
        "import matplotlib.pyplot as plt\n",
        "import matplotlib.image as mpimg\n",
        "img = mpimg.imread('/content/drive/MyDrive/pytorch/dog.png')\n",
        "imgplot = plt.imshow(img)\n",
        "plt.show()"
      ],
      "execution_count": null,
      "outputs": []
    },
    {
      "cell_type": "code",
      "metadata": {
        "id": "8SY_uBE7VezH"
      },
      "source": [
        "from matplotlib.pyplot import imshow\n",
        "import numpy as np\n",
        "from PIL import Image\n",
        "\n",
        "%matplotlib inline\n",
        "pil_im = Image.open('/content/drive/MyDrive/pytorch/dog.png', 'r')\n",
        "imshow(np.asarray(pil_im))"
      ],
      "execution_count": null,
      "outputs": []
    },
    {
      "cell_type": "code",
      "metadata": {
        "id": "a_oF_IoCnwyR"
      },
      "source": [
        "img_t = preprocess(pil_im)"
      ],
      "execution_count": 68,
      "outputs": []
    },
    {
      "cell_type": "code",
      "metadata": {
        "id": "hrmmfSWwoDAR"
      },
      "source": [
        "import torch\n",
        "batch_t = torch.unsqueeze(img_t, 0)"
      ],
      "execution_count": 69,
      "outputs": []
    },
    {
      "cell_type": "code",
      "metadata": {
        "id": "raIRQFLNoSnH"
      },
      "source": [
        "resnet.eval()"
      ],
      "execution_count": null,
      "outputs": []
    },
    {
      "cell_type": "code",
      "metadata": {
        "id": "CtOnQ9saobcw"
      },
      "source": [
        "out = resnet(batch_t)\n",
        "out"
      ],
      "execution_count": null,
      "outputs": []
    },
    {
      "cell_type": "code",
      "metadata": {
        "id": "oa7phPVBqAE3"
      },
      "source": [
        "with open('/content/drive/MyDrive/pytorch/image_classes.txt') as f:\n",
        "    labels = [line.strip() for line in f.readlines()]"
      ],
      "execution_count": 72,
      "outputs": []
    },
    {
      "cell_type": "code",
      "metadata": {
        "id": "-366hFPeqXF_"
      },
      "source": [
        "_, index = torch.max(out, 1)"
      ],
      "execution_count": 73,
      "outputs": []
    },
    {
      "cell_type": "code",
      "metadata": {
        "id": "7BA99XWoqd5Q"
      },
      "source": [
        "percentage = torch.nn.functional.softmax(out, dim=1)[0] * 100\n",
        "labels[index[0]], percentage[index[0]].item()"
      ],
      "execution_count": null,
      "outputs": []
    },
    {
      "cell_type": "code",
      "metadata": {
        "id": "GDyR3HPmqihG"
      },
      "source": [
        "_, indices = torch.sort(out, descending=True)\n",
        "[(labels[idx], percentage[idx].item()) for idx in indices[0][:5]]"
      ],
      "execution_count": null,
      "outputs": []
    }
  ]
}